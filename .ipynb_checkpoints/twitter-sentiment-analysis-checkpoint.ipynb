{
 "cells": [
  {
   "cell_type": "code",
   "execution_count": null,
   "metadata": {
    "collapsed": false
   },
   "outputs": [],
   "source": [
    "from tweepy import Stream\n",
    "from tweepy import OAuthHandler\n",
    "from tweepy.streaming import StreamListener\n",
    "import json\n",
    "import sentiment_mod as s\n",
    "\n",
    "#consumer key, consumer secret, access token, access secret.\n",
    "ckey = #\"consumer key\"\n",
    "csecret = #\"consumer secret\"\n",
    "atoken = #\"access-token\"\n",
    "asecret = #\"access secret\"\n",
    "\n",
    "class listener(StreamListener):\n",
    "\n",
    "    def on_data(self, data):\n",
    "        all_data = json.loads(data)\n",
    "        \n",
    "        tweet = all_data[\"text\"]\n",
    "        sentiment_value, confidence = s.sentiment(tweet)\n",
    "        print(tweet, sentiment_value, confidence)\n",
    "        if confidence*100 >= 80:\n",
    "            output = open('twitter-out.txt','a')\n",
    "            output.write(sentiment_value)\n",
    "            output.write('\\n')\n",
    "            output.close()\n",
    "         \n",
    "        return True\n",
    "\n",
    "    def on_error(self, status):\n",
    "        print(status)\n",
    "\n",
    "auth = OAuthHandler(ckey, csecret)\n",
    "auth.set_access_token(atoken, asecret)\n",
    "\n",
    "twitterStream = Stream(auth, listener())\n",
    "twitterStream.filter(track=[\"clinton\"])"
   ]
  },
  {
   "cell_type": "code",
   "execution_count": 3,
   "metadata": {
    "collapsed": false
   },
   "outputs": [
    {
     "data": {
      "image/png": "[encoded data removed]",
      "text/plain": [
       "<matplotlib.figure.Figure at 0x10322d828>"
      ]
     },
     "metadata": {},
     "output_type": "display_data"
    }
   ],
   "source": [
    "import matplotlib.pyplot as plt\n",
    "import matplotlib.animation as animation\n",
    "from matplotlib import style\n",
    "\n",
    "% matplotlib inline\n",
    "\n",
    "style.use('fivethirtyeight')\n",
    "\n",
    "fig = plt.figure()\n",
    "ax1 = fig.add_subplot(1,1,1)\n",
    "\n",
    "def animate(i):\n",
    "    graph_data = open('twitter-out.txt','r').read()\n",
    "    lines = graph_data.split('\\n')\n",
    "    xs = []\n",
    "    ys = []\n",
    "    \n",
    "    x = 0\n",
    "    y = 0\n",
    "    for line in lines:\n",
    "        x+=1\n",
    "        if 'pos' in line:\n",
    "            y +=1\n",
    "        elif 'neg' in line:\n",
    "            y -=1\n",
    "        \n",
    "        xs.append(x)\n",
    "        ys.append(y)\n",
    "\n",
    "    ax1.clear()\n",
    "    ax1.plot(xs, ys)\n",
    "    \n",
    "ani = animation.FuncAnimation(fig, animate, interval=1000)\n",
    "plt.show()"
   ]
  }
 ],
 "metadata": {
  "kernelspec": {
   "display_name": "Python 3",
   "language": "python",
   "name": "python3"
  },
  "language_info": {
   "codemirror_mode": {
    "name": "ipython",
    "version": 3
   },
   "file_extension": ".py",
   "mimetype": "text/x-python",
   "name": "python",
   "nbconvert_exporter": "python",
   "pygments_lexer": "ipython3",
   "version": "3.5.2"
  }
 },
 "nbformat": 4,
 "nbformat_minor": 0
}
